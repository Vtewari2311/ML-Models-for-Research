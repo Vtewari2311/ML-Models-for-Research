{
  "nbformat": 4,
  "nbformat_minor": 0,
  "metadata": {
    "colab": {
      "name": "LogisticRegression.ipynb",
      "provenance": []
    },
    "kernelspec": {
      "name": "python3",
      "display_name": "Python 3"
    },
    "language_info": {
      "name": "python"
    }
  },
  "cells": [
    {
      "cell_type": "code",
      "execution_count": null,
      "metadata": {
        "id": "l88xwyi0ODav"
      },
      "outputs": [],
      "source": [
        "# importing libraries\n",
        "from sklearn.linear_model import LogisticRegression\n",
        "from sklearn.model_selection import train_test_split\n",
        "import numpy as np"
      ]
    },
    {
      "cell_type": "code",
      "source": [
        "data = np.genfromtxt(filename, delimiter=',')"
      ],
      "metadata": {
        "id": "_WtRCaNUPmMe"
      },
      "execution_count": null,
      "outputs": []
    },
    {
      "cell_type": "code",
      "source": [
        "label2_filter = data[:, -1] == 2\n",
        "data[:, -1] = 0\n",
        "data[label2_filter] = 1"
      ],
      "metadata": {
        "id": "R9UXXcM1Ppwe"
      },
      "execution_count": null,
      "outputs": []
    },
    {
      "cell_type": "code",
      "source": [
        "X = data[:, :-1]\n",
        "y = data[:, -1]"
      ],
      "metadata": {
        "id": "sS9bwjfnPtwe"
      },
      "execution_count": null,
      "outputs": []
    },
    {
      "cell_type": "code",
      "source": [
        "print(f'{X.shape = }')\n",
        "print(f'{y.shape = }')"
      ],
      "metadata": {
        "id": "YtXy-EdhPvuw"
      },
      "execution_count": null,
      "outputs": []
    },
    {
      "cell_type": "code",
      "source": [
        "X_train, X_test, y_train, y_test = train_test_split(X, y, test_size=0.2)"
      ],
      "metadata": {
        "id": "wlBfegq7PyVa"
      },
      "execution_count": null,
      "outputs": []
    },
    {
      "cell_type": "code",
      "source": [
        "print(f'{X_train.shape = }')\n",
        "print(f'{y_train.shape = }')\n",
        "print(f'{X_test.shape = }')\n",
        "print(f'{y_test.shape = }')"
      ],
      "metadata": {
        "id": "Kwr_Y32IP0PQ"
      },
      "execution_count": null,
      "outputs": []
    },
    {
      "cell_type": "code",
      "source": [
        "model = LogisticRegression()"
      ],
      "metadata": {
        "id": "qWRTz_M5P2jS"
      },
      "execution_count": null,
      "outputs": []
    },
    {
      "cell_type": "code",
      "source": [
        "model.fit(X_train, y_train)"
      ],
      "metadata": {
        "id": "bdo3vXDCP33B"
      },
      "execution_count": null,
      "outputs": []
    },
    {
      "cell_type": "code",
      "source": [
        "accuracy = model.score(X_test, y_test) * 100\n",
        "print(f'accuracy = {accuracy:.3f}%')"
      ],
      "metadata": {
        "id": "BiFVv7h-P62N"
      },
      "execution_count": null,
      "outputs": []
    }
  ]
}