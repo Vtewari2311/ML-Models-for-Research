{
  "nbformat": 4,
  "nbformat_minor": 0,
  "metadata": {
    "colab": {
      "name": "multipleRegression.ipynb",
      "provenance": []
    },
    "kernelspec": {
      "name": "python3",
      "display_name": "Python 3"
    },
    "language_info": {
      "name": "python"
    }
  },
  "cells": [
    {
      "cell_type": "code",
      "execution_count": 3,
      "metadata": {
        "id": "6193Q5lDDMpo"
      },
      "outputs": [],
      "source": [
        "import numpy as np\n",
        "import pandas as pd\n",
        "import matplotlib.pyplot as plt"
      ]
    },
    {
      "cell_type": "code",
      "source": [
        "# import the data\n",
        "dataset = pd.ExcelFile()\n",
        "# vector of variables\n",
        "X = dataset.iloc[:, :-1].values\n",
        "# vector of features\n",
        "y = dataset.iloc[:, -1].values"
      ],
      "metadata": {
        "id": "WBJUT4ihDaC-"
      },
      "execution_count": 4,
      "outputs": []
    },
    {
      "cell_type": "code",
      "source": [
        "# Encoding categorical variable\n",
        "from sklearn.preprocessing import LabelEncoder, OneHotEncoder\n",
        "LabelEncoder_x = LabelEncoder()\n",
        "X[:, -1] = LabelEncoder_x.fit_transform(X[:, -1])\n",
        "OneHotEncoder = OneHotEncoder(categorical_features = [7])\n",
        "X = OneHotEncoder.fit_transform(X).toarray()"
      ],
      "metadata": {
        "id": "MbkitJedEHev"
      },
      "execution_count": null,
      "outputs": []
    },
    {
      "cell_type": "code",
      "source": [
        "# Avoiding the dummy variable trap\n",
        "X = X[:, 1:]"
      ],
      "metadata": {
        "id": "na9Bh3cbEzO8"
      },
      "execution_count": null,
      "outputs": []
    },
    {
      "cell_type": "code",
      "source": [
        "# Split dataset for training and testing\n",
        "from sklearn.model_selection import train_test_split\n",
        "X_train, X_test, y_train, y_test = train_test_split(X, y, test_size = 0.2, random_state = 0)"
      ],
      "metadata": {
        "id": "9l50Cfi6FRHw"
      },
      "execution_count": null,
      "outputs": []
    },
    {
      "cell_type": "code",
      "source": [
        "# Feature Scaling\n",
        "from sklearn.preprocessing import StandardScaler\n",
        "sc_X = StandardScaler()\n",
        "X_train = sc_X.fit_transform(X_train)\n",
        "X_test = sc_X.transform(X_test)\n",
        "sc_y = StandardScaler()\n",
        "y_train = sc_y.fit_transform(y_train)"
      ],
      "metadata": {
        "id": "Kuj6fpFGE-QI"
      },
      "execution_count": null,
      "outputs": []
    },
    {
      "cell_type": "code",
      "source": [
        "# Fitting multiple lineaar regression to the training set\n",
        "from sklearn.linear_model import LinearRegression\n",
        "regressor = LinearRegression()\n",
        "regressor.fit(X_train, y_train)\n",
        "print('Model score: '+str(regressor.score(X_test,y_test)))"
      ],
      "metadata": {
        "id": "GYmm6gcoFC8R"
      },
      "execution_count": null,
      "outputs": []
    },
    {
      "cell_type": "code",
      "source": [
        "# Predicting the test set results\n",
        "y_pred = regressor.predict(X_test)"
      ],
      "metadata": {
        "id": "F3qFRAs4FFmX"
      },
      "execution_count": null,
      "outputs": []
    },
    {
      "cell_type": "code",
      "source": [
        "# comparing the y_prediction values with the original values because we have to calculate the accuracy of our model, which was implemented by a concept called r2_score.\n",
        "# importing r2_score module\n",
        "from sklearn.metrics import r2_score\n",
        "from sklearn.metrics import mean_squared_error\n",
        "# predicting the accuracy score\n",
        "score = r2_score(y_test,y_pred)\n",
        "print('r2: ',score)\n",
        "print('mse: ',mean_squared_error(y_test,y_pred))\n",
        "print('rmse: ',np.sqrt(mean_squared_error(y_test,y_pred)))\n"
      ],
      "metadata": {
        "id": "tbLNTj4xGNTi"
      },
      "execution_count": null,
      "outputs": []
    },
    {
      "cell_type": "code",
      "source": [
        "# Visualising the Train set results\n",
        "plt.scatter(X_train, y_train, color = 'red')\n",
        "plt.plot(X_train, regressor.predict(X_train), color = 'blue')\n",
        "plt.title('Train Set')\n",
        "plt.xlabel('')\n",
        "plt.ylabel('')\n",
        "plt.show()"
      ],
      "metadata": {
        "id": "w5Zso5EhGlbL"
      },
      "execution_count": null,
      "outputs": []
    },
    {
      "cell_type": "code",
      "source": [
        "# Visualising the Test set results\n",
        "plt.scatter(X_test, y_test, color = 'red')\n",
        "plt.plot(X_train, regressor.predict(X_train), color = 'blue')\n",
        "plt.title('Test Set')\n",
        "plt.xlabel('')\n",
        "plt.ylabel('')\n",
        "plt.show()"
      ],
      "metadata": {
        "id": "wMSNmHtZGoL5"
      },
      "execution_count": null,
      "outputs": []
    }
  ]
}
