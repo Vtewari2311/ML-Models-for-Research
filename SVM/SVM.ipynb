{
  "nbformat": 4,
  "nbformat_minor": 0,
  "metadata": {
    "colab": {
      "name": "SVM.ipynb",
      "provenance": []
    },
    "kernelspec": {
      "name": "python3",
      "display_name": "Python 3"
    },
    "language_info": {
      "name": "python"
    }
  },
  "cells": [
    {
      "cell_type": "code",
      "execution_count": null,
      "metadata": {
        "id": "4q9_q94NV6fj"
      },
      "outputs": [],
      "source": [
        "# importing libraries\n",
        "import random\n",
        "import numpy as np\n",
        "import pandas as pd\n",
        "import matplotlib.pyplot as plt"
      ]
    },
    {
      "cell_type": "code",
      "source": [
        "def generate_random_dataset(size):\n",
        "    \"\"\" Generate a random dataset and that follows a quadratic  distribution\n",
        "    \"\"\"\n",
        "    x = []\n",
        "    y = []\n",
        "    target = []\n",
        "    for i in range(size):\n",
        "        # class zero\n",
        "        x.append(np.round(random.uniform(0, 2.5), 1))\n",
        "        y.append(np.round(random.uniform(0, 20), 1))\n",
        "        target.append(0)\n",
        "        # class one\n",
        "        x.append(np.round(random.uniform(1, 5), 2))\n",
        "        y.append(np.round(random.uniform(20, 25), 2))\n",
        "        target.append(1)\n",
        "        x.append(np.round(random.uniform(3, 5), 2))\n",
        "        y.append(np.round(random.uniform(5, 25), 2))\n",
        "        target.append(1)\n",
        "    df_x = pd.DataFrame(data=x)\n",
        "    df_y = pd.DataFrame(data=y)\n",
        "    df_target = pd.DataFrame(data=target)\n",
        "    data_frame = pd.concat([df_x, df_y], ignore_index=True, axis=1)\n",
        "    data_frame = pd.concat([data_frame, df_target], ignore_index=True, axis=1)\n",
        "    data_frame.columns = ['x', 'y', 'target']\n",
        "    return data_frame"
      ],
      "metadata": {
        "id": "VZWlSV1LWEmF"
      },
      "execution_count": null,
      "outputs": []
    },
    {
      "cell_type": "code",
      "source": [
        "# Generate dataset\n",
        "size = 100\n",
        "dataset = generate_random_dataset(size)\n",
        "features = dataset[['x', 'y']]\n",
        "label = dataset['target']\n",
        "# Hold out 20% of the dataset for training\n",
        "test_size = int(np.round(size * 0.2, 0))\n",
        "# Split dataset into training and testing sets\n",
        "x_train = features[:-test_size].values\n",
        "y_train = label[:-test_size].values\n",
        "x_test = features[-test_size:].values\n",
        "y_test = label[-test_size:].values\n",
        "# Plotting the training set\n",
        "fig, ax = plt.subplots(figsize=(12, 7))\n",
        "# removing to and right border\n",
        "ax.spines['top'].set_visible(False)\n",
        "ax.spines['left'].set_visible(False)\n",
        "ax.spines['right'].set_visible(False)\n",
        "# adding major gridlines\n",
        "ax.grid(color='grey', linestyle='-', linewidth=0.25, alpha=0.5)\n",
        "ax.scatter(features[:-test_size]['x'], features[:-test_size]['y'], color=\"#8C7298\")\n",
        "plt.show()\n"
      ],
      "metadata": {
        "id": "RT30IwqPWHgW"
      },
      "execution_count": null,
      "outputs": []
    },
    {
      "cell_type": "code",
      "source": [
        "from sklearn import svm\n",
        "model = svm.SVC(kernel='poly', degree=2)\n",
        "model.fit(x_train, y_train)"
      ],
      "metadata": {
        "id": "fOAMZCIxWKxc"
      },
      "execution_count": null,
      "outputs": []
    },
    {
      "cell_type": "code",
      "source": [
        "fig, ax = plt.subplots(figsize=(12, 7))\n",
        "# Removing to and right border\n",
        "ax.spines['top'].set_visible(False)\n",
        "ax.spines['left'].set_visible(False)\n",
        "ax.spines['right'].set_visible(False)\n",
        "# Create grid to evaluate model\n",
        "xx = np.linspace(-1, max(features['x']) + 1, len(x_train))\n",
        "yy = np.linspace(0, max(features['y']) + 1, len(y_train))\n",
        "YY, XX = np.meshgrid(yy, xx)\n",
        "xy = np.vstack([XX.ravel(), YY.ravel()]).T\n",
        "train_size = len(features[:-test_size]['x'])\n",
        "# Assigning different colors to the classes\n",
        "colors = y_train\n",
        "colors = np.where(colors == 1, '#8C7298', '#4786D1')\n",
        "# Plot the dataset\n",
        "ax.scatter(features[:-test_size]['x'], features[:-test_size]['y'], c=colors)\n",
        "# Get the separating hyperplane\n",
        "Z = model.decision_function(xy).reshape(XX.shape)\n",
        "# Draw the decision boundary and margins\n",
        "ax.contour(XX, YY, Z, colors='k', levels=[-1, 0, 1], alpha=0.5, linestyles=['--', '-', '--'])\n",
        "# Highlight support vectors with a circle around them\n",
        "ax.scatter(model.support_vectors_[:, 0], model.support_vectors_[:, 1], s=100, linewidth=1, facecolors='none', edgecolors='k')\n",
        "plt.show()"
      ],
      "metadata": {
        "id": "jX3H_CVqWM3Z"
      },
      "execution_count": null,
      "outputs": []
    },
    {
      "cell_type": "code",
      "source": [
        "from sklearn.metrics import accuracy_score\n",
        "predictions_poly = model.predict(x_test)\n",
        "accuracy_poly = accuracy_score(y_test, predictions_poly)\n",
        "print(\"2nd degree polynomial Kernel\\nAccuracy (normalized): \" + str(accuracy_poly))\n",
        "\n",
        "model = svm.SVC(kernel='linear')\n",
        "model.fit(x_train, y_train)\n"
      ],
      "metadata": {
        "id": "rN8hjdGtWPeN"
      },
      "execution_count": null,
      "outputs": []
    },
    {
      "cell_type": "code",
      "source": [
        "model = svm.SVC(kernel='linear')\n",
        "model.fit(x_train, y_train)"
      ],
      "metadata": {
        "id": "Uf653URXWRy1"
      },
      "execution_count": null,
      "outputs": []
    }
  ]
}